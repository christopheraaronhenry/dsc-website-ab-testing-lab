{
 "cells": [
  {
   "cell_type": "markdown",
   "metadata": {},
   "source": [
    "# Website A/B Testing - Lab\n",
    "\n",
    "## Introduction\n",
    "\n",
    "In this lab, you'll get another chance to practice your skills at conducting a full A/B test analysis. It will also be a chance to practice your data exploration and processing skills! The scenario you'll be investigating is data collected from the homepage of a music app page for audacity.\n",
    "\n",
    "## Objectives\n",
    "\n",
    "You will be able to:\n",
    "* Analyze the data from a website A/B test to draw relevant conclusions\n",
    "* Explore and analyze web action data"
   ]
  },
  {
   "cell_type": "markdown",
   "metadata": {},
   "source": [
    "## Exploratory Analysis\n",
    "\n",
    "Start by loading in the dataset stored in the file 'homepage_actions.csv'. Then conduct an exploratory analysis to get familiar with the data."
   ]
  },
  {
   "cell_type": "markdown",
   "metadata": {},
   "source": [
    "> Hints:\n",
    "    * Start investigating the id column:\n",
    "        * How many viewers also clicked?\n",
    "        * Are there any anomalies with the data; did anyone click who didn't view?\n",
    "        * Is there any overlap between the control and experiment groups? \n",
    "            * If so, how do you plan to account for this in your experimental design?"
   ]
  },
  {
   "cell_type": "code",
   "execution_count": 1,
   "metadata": {},
   "outputs": [
    {
     "data": {
      "text/html": [
       "<div>\n",
       "<style scoped>\n",
       "    .dataframe tbody tr th:only-of-type {\n",
       "        vertical-align: middle;\n",
       "    }\n",
       "\n",
       "    .dataframe tbody tr th {\n",
       "        vertical-align: top;\n",
       "    }\n",
       "\n",
       "    .dataframe thead th {\n",
       "        text-align: right;\n",
       "    }\n",
       "</style>\n",
       "<table border=\"1\" class=\"dataframe\">\n",
       "  <thead>\n",
       "    <tr style=\"text-align: right;\">\n",
       "      <th></th>\n",
       "      <th>timestamp</th>\n",
       "      <th>id</th>\n",
       "      <th>group</th>\n",
       "      <th>action</th>\n",
       "    </tr>\n",
       "  </thead>\n",
       "  <tbody>\n",
       "    <tr>\n",
       "      <th>0</th>\n",
       "      <td>2016-09-24 17:42:27.839496</td>\n",
       "      <td>804196</td>\n",
       "      <td>experiment</td>\n",
       "      <td>view</td>\n",
       "    </tr>\n",
       "    <tr>\n",
       "      <th>1</th>\n",
       "      <td>2016-09-24 19:19:03.542569</td>\n",
       "      <td>434745</td>\n",
       "      <td>experiment</td>\n",
       "      <td>view</td>\n",
       "    </tr>\n",
       "    <tr>\n",
       "      <th>2</th>\n",
       "      <td>2016-09-24 19:36:00.944135</td>\n",
       "      <td>507599</td>\n",
       "      <td>experiment</td>\n",
       "      <td>view</td>\n",
       "    </tr>\n",
       "    <tr>\n",
       "      <th>3</th>\n",
       "      <td>2016-09-24 19:59:02.646620</td>\n",
       "      <td>671993</td>\n",
       "      <td>control</td>\n",
       "      <td>view</td>\n",
       "    </tr>\n",
       "    <tr>\n",
       "      <th>4</th>\n",
       "      <td>2016-09-24 20:26:14.466886</td>\n",
       "      <td>536734</td>\n",
       "      <td>experiment</td>\n",
       "      <td>view</td>\n",
       "    </tr>\n",
       "  </tbody>\n",
       "</table>\n",
       "</div>"
      ],
      "text/plain": [
       "                    timestamp      id       group action\n",
       "0  2016-09-24 17:42:27.839496  804196  experiment   view\n",
       "1  2016-09-24 19:19:03.542569  434745  experiment   view\n",
       "2  2016-09-24 19:36:00.944135  507599  experiment   view\n",
       "3  2016-09-24 19:59:02.646620  671993     control   view\n",
       "4  2016-09-24 20:26:14.466886  536734  experiment   view"
      ]
     },
     "execution_count": 1,
     "metadata": {},
     "output_type": "execute_result"
    }
   ],
   "source": [
    "#Your code here\n",
    "import pandas as pd\n",
    "import numpy as np\n",
    "from statsmodels.stats.power import TTestIndPower, TTestPower\n",
    "import statsmodels as sm\n",
    "import scipy.stats as stats\n",
    "\n",
    "import matplotlib.pyplot as plt\n",
    "import seaborn as sns\n",
    "sns.set_style('darkgrid')\n",
    "%matplotlib inline\n",
    "\n",
    "df = pd.read_csv('homepage_actions.csv')\n",
    "df.head()"
   ]
  },
  {
   "cell_type": "code",
   "execution_count": 2,
   "metadata": {},
   "outputs": [
    {
     "name": "stdout",
     "output_type": "stream",
     "text": [
      "Viewer count: 6328\n",
      "Clicker count: 1860\n",
      "Count of viewers who did not click: 4468\n",
      "\n",
      "Individuals in expt group: 2996\n",
      "Individuals in ctrl group: 3332\n",
      "Individuals in both groups: 0\n",
      "Number of clicked who also viewed: 1860\n"
     ]
    }
   ],
   "source": [
    "clickedID = df[df['action']=='click']['id'].unique()\n",
    "viewedID = df[df['action']=='view']['id'].unique()\n",
    "print('Viewer count: {}'.format(len(viewedID)))\n",
    "print('Clicker count: {}'.format(len(clickedID)))\n",
    "print('Count of viewers who did not click: {}'.format(len(viewedID)-len(clickedID)))\n",
    "\n",
    "exptID = set(df[df['group']=='experiment']['id'].unique())\n",
    "ctrlID = set(df[df['group']=='control']['id'].unique())\n",
    "print('\\nIndividuals in expt group: {}'.format(len(exptID)))\n",
    "print('Individuals in ctrl group: {}'.format(len(ctrlID)))\n",
    "print('Individuals in both groups: {}'.format(len(exptID.intersection(ctrlID))))\n",
    "\n",
    "print('Number of clicked who also viewed: {}'.format(len(set(clickedID).intersection(set(viewedID)))))"
   ]
  },
  {
   "cell_type": "code",
   "execution_count": 3,
   "metadata": {},
   "outputs": [
    {
     "data": {
      "text/plain": [
       "\"\\nThe majority of the website viewers didn't click on a link.\\n\\nThe number of individuals if approximately similar between experimental and control groups.\\nFuther, there is no overlap in individuals between these groups.\\n\\nAll individuals who clicked also viewed.\""
      ]
     },
     "execution_count": 3,
     "metadata": {},
     "output_type": "execute_result"
    }
   ],
   "source": [
    "\"\"\"\n",
    "The majority of the website viewers didn't click on a link.\n",
    "\n",
    "The number of individuals if approximately similar between experimental and control groups.\n",
    "Futher, there is no overlap in individuals between these groups.\n",
    "\n",
    "All individuals who clicked also viewed.\"\"\""
   ]
  },
  {
   "cell_type": "markdown",
   "metadata": {},
   "source": [
    "## Conduct a Statistical Test\n",
    "\n",
    "Conduct a statistical test to determine whether the experimental homepage was more effective than that of the control group."
   ]
  },
  {
   "cell_type": "code",
   "execution_count": 39,
   "metadata": {},
   "outputs": [
    {
     "name": "stdout",
     "output_type": "stream",
     "text": [
      "0.028268595543457887\n",
      "We can reject the null hypothesis that the control and experimental homepages had the same outcome on viewers who clicked, since the p_value of 0.0283 is less than our alpha level of 0.05.\n"
     ]
    }
   ],
   "source": [
    "#Your code here\n",
    "clickedID = set(clickedID)\n",
    "viewedID = set(viewedID)\n",
    "exptID = set(exptID)\n",
    "ctrlID = set(ctrlID)\n",
    "\n",
    "contingency_table = [[len(exptID.intersection(clickedID)), len(exptID.intersection(viewedID))],\n",
    "                    [len(ctrlID.intersection(clickedID)), len(ctrlID.intersection(viewedID))]]\n",
    "contingency_table\n",
    "results = stats.chi2_contingency(contingency_table)\n",
    "results\n",
    "chi_stat=results[0]\n",
    "p_value = results[1]\n",
    "dof = results[2]\n",
    "expected_freq = results[3]\n",
    "\n",
    "print(results[1]/2) #take half the p_value for a one-sided test\n",
    "print('We can reject the null hypothesis that the control and experimental homepages had the same outcome on viewers who clicked, since the p_value of {:.4f} is less than our alpha level of 0.05.'.format(p_value/2))\n"
   ]
  },
  {
   "cell_type": "markdown",
   "metadata": {},
   "source": [
    "## Verifying Results\n",
    "\n",
    "One sensible formulation of the data to answer the hypothesis test above would be to create a binary variable representing each individual in the experiment and control group. This binary variable would represent whether or not that individual clicked on the homepage; 1 for they did and 0 if they did not. \n",
    "\n",
    "The variance for the number of successes in a sample of a binomial variable with n observations is given by:\n",
    "\n",
    "## $n\\bullet p (1-p)$\n",
    "\n",
    "Given this, perform 3 steps to verify the results of your statistical test:\n",
    "1. Calculate the expected number of clicks for the experiment group, if it had the same click-through rate as that of the control group. \n",
    "2. Calculate the number of standard deviations that the actual number of clicks was from this estimate. \n",
    "3. Finally, calculate a p-value using the normal distribution based on this z-score."
   ]
  },
  {
   "cell_type": "markdown",
   "metadata": {},
   "source": [
    "### Step 1:\n",
    "Calculate the expected number of clicks for the experiment group, if it had the same click-through rate as that of the control group. "
   ]
  },
  {
   "cell_type": "code",
   "execution_count": 23,
   "metadata": {},
   "outputs": [
    {
     "name": "stdout",
     "output_type": "stream",
     "text": [
      "         view        click\n",
      "count  2996.0  2996.000000\n",
      "mean      1.0     0.309746\n",
      "std       0.0     0.462466\n",
      "min       1.0     0.000000\n",
      "25%       1.0     0.000000\n",
      "50%       1.0     0.000000\n",
      "75%       1.0     1.000000\n",
      "max       1.0     1.000000\n",
      "         view        click\n",
      "count  3332.0  3332.000000\n",
      "mean      1.0     0.279712\n",
      "std       0.0     0.448925\n",
      "min       1.0     0.000000\n",
      "25%       1.0     0.000000\n",
      "50%       1.0     0.000000\n",
      "75%       1.0     1.000000\n",
      "max       1.0     1.000000\n",
      "The control group click rate was 0.2797118847539016 clicks per view.\n",
      "The experimental group would have 838.0168067226891 clicks if it had the same rate as the control group.\n"
     ]
    }
   ],
   "source": [
    "#Your code here\n",
    "exptID_click = pd.DataFrame([]) #initialize data frames\n",
    "ctrlID_click = pd.DataFrame([])\n",
    "\n",
    "for person in exptID: #loop over people in experimental group\n",
    "    actions = list(df[df['id']==person]['action'])\n",
    "    for action in actions: #for each action\n",
    "        exptID_click.loc[person, actions] = 1 #store flag of 1\n",
    "exptID_click.fillna(0, inplace=True) #fill NaNs with 0\n",
    "\n",
    "for person in ctrlID: #loop over people in control group\n",
    "    actions = list(df[df['id']==person]['action'])\n",
    "    for action in actions: #for each action\n",
    "        ctrlID_click.loc[person, actions] = 1 #store flag of 1\n",
    "ctrlID_click.fillna(0, inplace=True) # fill NaNs with 0\n",
    "\n",
    "print(exptID_click.describe()) #summarize views/clicks per group\n",
    "print(ctrlID_click.describe())\n",
    "\n",
    "\n",
    "ctrl_click_rate = ctrlID_click.click.mean()\n",
    "expt_clicks_using_ctrl_rate = len(exptID_click)*ctrl_click_rate\n",
    "\n",
    "print('The control group click rate was {} clicks per view.'.format(ctrl_click_rate))\n",
    "print('The experimental group would have {} clicks if it had the same rate as the control group.'.format(expt_clicks_using_ctrl_rate))"
   ]
  },
  {
   "cell_type": "markdown",
   "metadata": {},
   "source": [
    "### Step 2:\n",
    "Calculate the number of standard deviations that the actual number of clicks was from this estimate."
   ]
  },
  {
   "cell_type": "code",
   "execution_count": 32,
   "metadata": {},
   "outputs": [
    {
     "name": "stdout",
     "output_type": "stream",
     "text": [
      "The expected standard deviation of clicks in the experimental group, using the control rate is 24.568547907005815\n",
      "Actual # of clicks in experimental group: 928.0\n",
      "Expected # of clicks in experimental group (using control rate): 838.0168067226891\n",
      "(Actual - Expected) / std: 3.6625360854823588\n"
     ]
    }
   ],
   "source": [
    "#Your code here\n",
    "expected_var = len(exptID_click)*ctrl_click_rate*(1 - ctrl_click_rate)\n",
    "expected_std = np.sqrt(expected_var)\n",
    "print('The expected standard deviation of clicks in the experimental group, using the control rate is {}'.format(expected_std))\n",
    "\n",
    "print('Actual # of clicks in experimental group: {}'.format(exptID_click.click.sum()))\n",
    "print('Expected # of clicks in experimental group (using control rate): {}'.format(expt_clicks_using_ctrl_rate))\n",
    "\n",
    "z_value = (exptID_click.click.sum() - expt_clicks_using_ctrl_rate) / expected_std\n",
    "                                             \n",
    "print('(Actual - Expected) / std: {}'.format(z_value))\n"
   ]
  },
  {
   "cell_type": "markdown",
   "metadata": {},
   "source": [
    "### Step 3: \n",
    "Finally, calculate a p-value using the normal distribution based on this z-score."
   ]
  },
  {
   "cell_type": "code",
   "execution_count": 36,
   "metadata": {},
   "outputs": [
    {
     "name": "stdout",
     "output_type": "stream",
     "text": [
      "0.00012486528006949715\n"
     ]
    }
   ],
   "source": [
    "#Your code here\n",
    "print(1 - stats.norm.cdf(z_value))"
   ]
  },
  {
   "cell_type": "markdown",
   "metadata": {},
   "source": [
    "### Analysis:\n",
    "\n",
    "Does this result roughly match that of the previous statistical test?\n",
    "\n",
    "> Comment: **Both approaches lead us to reject the null hypothesis of the rate of clicks being the same between experimental and control groups.**\n",
    "The second analysis leads to lower estimated p_values however. Both analyses lead us to conclude that the experimental page leads a greater fraction of viewers to initiate clicks."
   ]
  },
  {
   "cell_type": "markdown",
   "metadata": {},
   "source": [
    "## Summary\n",
    "\n",
    "In this lab, you continued to get more practice designing and conducting AB tests. This required additional work preprocessing and formulating the initial problem in a suitable manner. Additionally, you also saw how to verify results, strengthening your knowledge of binomial variables, and reviewing initial statistical concepts of the central limit theorem, standard deviation, z-scores, and their accompanying p-values."
   ]
  }
 ],
 "metadata": {
  "kernelspec": {
   "display_name": "Python 3",
   "language": "python",
   "name": "python3"
  },
  "language_info": {
   "codemirror_mode": {
    "name": "ipython",
    "version": 3
   },
   "file_extension": ".py",
   "mimetype": "text/x-python",
   "name": "python",
   "nbconvert_exporter": "python",
   "pygments_lexer": "ipython3",
   "version": "3.8.5"
  }
 },
 "nbformat": 4,
 "nbformat_minor": 2
}
